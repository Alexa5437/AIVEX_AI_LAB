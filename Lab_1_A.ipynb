{
  "nbformat": 4,
  "nbformat_minor": 0,
  "metadata": {
    "colab": {
      "provenance": [],
      "include_colab_link": true
    },
    "kernelspec": {
      "name": "python3",
      "display_name": "Python 3"
    },
    "language_info": {
      "name": "python"
    }
  },
  "cells": [
    {
      "cell_type": "markdown",
      "metadata": {
        "id": "view-in-github",
        "colab_type": "text"
      },
      "source": [
        "<a href=\"https://colab.research.google.com/github/Alexa5437/AIVEX_AI_LAB/blob/main/Lab_1_A.ipynb\" target=\"_parent\"><img src=\"https://colab.research.google.com/assets/colab-badge.svg\" alt=\"Open In Colab\"/></a>"
      ]
    },
    {
      "cell_type": "markdown",
      "source": [
        "Missionary and Cannibals using BFS"
      ],
      "metadata": {
        "id": "8tNTNplWOpWn"
      }
    },
    {
      "cell_type": "code",
      "execution_count": null,
      "metadata": {
        "id": "HLwQppSLNaIR",
        "colab": {
          "base_uri": "https://localhost:8080/"
        },
        "outputId": "d5879df7-49aa-4816-971a-bb1aba8efc9b"
      },
      "outputs": [
        {
          "output_type": "stream",
          "name": "stdout",
          "text": [
            "Solution found! Steps to cross:\n",
            "(3, 3, 1)\n",
            "(2, 2, 0)\n",
            "(3, 2, 1)\n",
            "(3, 0, 0)\n",
            "(3, 1, 1)\n",
            "(1, 1, 0)\n",
            "(2, 2, 1)\n",
            "(0, 2, 0)\n",
            "(0, 3, 1)\n",
            "(0, 1, 0)\n",
            "(0, 2, 1)\n",
            "(0, 0, 0)\n",
            "Optimal solution has been identified.\n"
          ]
        }
      ],
      "source": [
        "from collections import deque\n",
        "\n",
        "class RiverCrossingState:\n",
        "    def __init__(self, left_missionaries, left_cannibals, boat_position, steps):\n",
        "        self.left_missionaries = left_missionaries\n",
        "        self.left_cannibals = left_cannibals\n",
        "        self.boat_position = boat_position\n",
        "        self.steps = steps\n",
        "\n",
        "    def is_state_valid(self):\n",
        "        if (self.left_missionaries < 0 or self.left_cannibals < 0 or\n",
        "                self.left_missionaries > 3 or self.left_cannibals > 3):\n",
        "            return False\n",
        "        if (self.left_missionaries > 0 and self.left_cannibals > self.left_missionaries):\n",
        "            return False\n",
        "        if (3 - self.left_missionaries > 0 and 3 - self.left_cannibals > 3 - self.left_missionaries):\n",
        "            return False\n",
        "        return True\n",
        "\n",
        "    def is_target_reached(self):\n",
        "        return self.left_missionaries == 0 and self.left_cannibals == 0\n",
        "\n",
        "    def __eq__(self, other):\n",
        "        return (self.left_missionaries == other.left_missionaries and\n",
        "                self.left_cannibals == other.left_cannibals and\n",
        "                self.boat_position == other.boat_position)\n",
        "\n",
        "    def __hash__(self):\n",
        "        return hash((self.left_missionaries, self.left_cannibals, self.boat_position))\n",
        "\n",
        "\n",
        "def breadth_first_search():\n",
        "    start_state = RiverCrossingState(3, 3, 1, [(3, 3, 1)])\n",
        "    state_queue = deque([start_state])\n",
        "    visited_states = set()\n",
        "    visited_states.add(start_state)\n",
        "\n",
        "    while state_queue:\n",
        "        current_state = state_queue.popleft()\n",
        "\n",
        "        if current_state.is_target_reached():\n",
        "            print(\"Solution found! Steps to cross:\")\n",
        "            for step in current_state.steps:\n",
        "                print(step)\n",
        "            return True\n",
        "\n",
        "        possible_moves = [(0, 1), (1, 0), (1, 1), (2, 0), (0, 2)]\n",
        "        for missionaries, cannibals in possible_moves:\n",
        "            if current_state.boat_position:\n",
        "                next_state = RiverCrossingState(current_state.left_missionaries - missionaries,\n",
        "                                                 current_state.left_cannibals - cannibals,\n",
        "                                                 0,\n",
        "                                                 current_state.steps + [(current_state.left_missionaries - missionaries,\n",
        "                                                                         current_state.left_cannibals - cannibals,\n",
        "                                                                         0)])\n",
        "            else:\n",
        "                next_state = RiverCrossingState(current_state.left_missionaries + missionaries,\n",
        "                                                 current_state.left_cannibals + cannibals,\n",
        "                                                 1,\n",
        "                                                 current_state.steps + [(current_state.left_missionaries + missionaries,\n",
        "                                                                         current_state.left_cannibals + cannibals,\n",
        "                                                                         1)])\n",
        "\n",
        "            if next_state.is_state_valid() and next_state not in visited_states:\n",
        "                visited_states.add(next_state)\n",
        "                state_queue.append(next_state)\n",
        "\n",
        "    return False\n",
        "\n",
        "if __name__ == \"__main__\":\n",
        "    if breadth_first_search():\n",
        "        print(\"Optimal solution has been found.\")\n",
        "    else:\n",
        "        print(\"No valid solution exists.\")\n"
      ]
    },
    {
      "cell_type": "markdown",
      "source": [
        "Missionary and Cannibals using DFS"
      ],
      "metadata": {
        "id": "pXOnhsDbbql4"
      }
    },
    {
      "cell_type": "code",
      "source": [
        "from collections import deque\n",
        "\n",
        "class CrossingState:\n",
        "    def __init__(self, missionaries_on_left, cannibals_on_left, boat_position, journey):\n",
        "        self.missionaries_on_left = missionaries_on_left\n",
        "        self.cannibals_on_left = cannibals_on_left\n",
        "        self.boat_position = boat_position\n",
        "        self.journey = journey\n",
        "\n",
        "    def is_valid_state(self):\n",
        "        if (self.missionaries_on_left < 0 or self.cannibals_on_left < 0 or\n",
        "                self.missionaries_on_left > 3 or self.cannibals_on_left > 3):\n",
        "            return False\n",
        "        if (self.missionaries_on_left > 0 and self.cannibals_on_left > self.missionaries_on_left):\n",
        "            return False\n",
        "        if (3 - self.missionaries_on_left > 0 and 3 - self.cannibals_on_left > 3 - self.missionaries_on_left):\n",
        "            return False\n",
        "        return True\n",
        "\n",
        "    def is_goal_reached(self):\n",
        "        return self.missionaries_on_left == 0 and self.cannibals_on_left == 0\n",
        "\n",
        "    def __eq__(self, other):\n",
        "        return (self.missionaries_on_left == other.missionaries_on_left and\n",
        "                self.cannibals_on_left == other.cannibals_on_left and\n",
        "                self.boat_position == other.boat_position)\n",
        "\n",
        "    def __hash__(self):\n",
        "        return hash((self.missionaries_on_left, self.cannibals_on_left, self.boat_position))\n",
        "\n",
        "\n",
        "def dfs_algorithm():\n",
        "    initial_state = CrossingState(3, 3, 1, [(3, 3, 1)])\n",
        "    state_stack = [initial_state]\n",
        "    explored_states = set()\n",
        "    explored_states.add(initial_state)\n",
        "\n",
        "    while state_stack:\n",
        "        active_state = state_stack.pop()\n",
        "\n",
        "        if active_state.is_goal_reached():\n",
        "            print(\"Solution found! Journey steps:\")\n",
        "            for step in active_state.journey:\n",
        "                print(step)\n",
        "            return True\n",
        "\n",
        "        move_options = [(0, 1), (1, 0), (1, 1), (2, 0), (0, 2)]\n",
        "        for m, c in move_options:\n",
        "            if active_state.boat_position:\n",
        "                new_state = CrossingState(active_state.missionaries_on_left - m,\n",
        "                                          active_state.cannibals_on_left - c,\n",
        "                                          0,\n",
        "                                          active_state.journey + [(active_state.missionaries_on_left - m,\n",
        "                                                                   active_state.cannibals_on_left - c,\n",
        "                                                                   0)])\n",
        "            else:\n",
        "                new_state = CrossingState(active_state.missionaries_on_left + m,\n",
        "                                          active_state.cannibals_on_left + c,\n",
        "                                          1,\n",
        "                                          active_state.journey + [(active_state.missionaries_on_left + m,\n",
        "                                                                   active_state.cannibals_on_left + c,\n",
        "                                                                   1)])\n",
        "\n",
        "            if new_state.is_valid_state() and new_state not in explored_states:\n",
        "                explored_states.add(new_state)\n",
        "                state_stack.append(new_state)\n",
        "\n",
        "    return False\n",
        "\n",
        "\n",
        "if __name__ == \"__main__\":\n",
        "    if dfs_algorithm():\n",
        "        print(\"A valid solution has been found.\")\n",
        "    else:\n",
        "        print(\"No valid solution exists.\")\n"
      ],
      "metadata": {
        "colab": {
          "base_uri": "https://localhost:8080/"
        },
        "id": "QYA4uv7FY0NU",
        "outputId": "fe822283-3763-4f0f-a515-6d4824509949"
      },
      "execution_count": null,
      "outputs": [
        {
          "output_type": "stream",
          "name": "stdout",
          "text": [
            "Solution found! Journey steps:\n",
            "(3, 3, 1)\n",
            "(3, 1, 0)\n",
            "(3, 2, 1)\n",
            "(3, 0, 0)\n",
            "(3, 1, 1)\n",
            "(1, 1, 0)\n",
            "(2, 2, 1)\n",
            "(0, 2, 0)\n",
            "(0, 3, 1)\n",
            "(0, 1, 0)\n",
            "(1, 1, 1)\n",
            "(0, 0, 0)\n",
            "A valid solution has been found.\n"
          ]
        }
      ]
    },
    {
      "cell_type": "code",
      "source": [],
      "metadata": {
        "id": "SLo48QFVkq4S"
      },
      "execution_count": null,
      "outputs": []
    }
  ]
}