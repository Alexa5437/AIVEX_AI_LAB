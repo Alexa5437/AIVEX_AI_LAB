{
  "nbformat": 4,
  "nbformat_minor": 0,
  "metadata": {
    "colab": {
      "provenance": []
    },
    "kernelspec": {
      "name": "python3",
      "display_name": "Python 3"
    },
    "language_info": {
      "name": "python"
    }
  },
  "cells": [
    {
      "cell_type": "markdown",
      "source": [
        "4.2 jigsaw puzzles problem"
      ],
      "metadata": {
        "id": "iYLWgxGVWTxg"
      }
    },
    {
      "cell_type": "code",
      "execution_count": null,
      "metadata": {
        "colab": {
          "base_uri": "https://localhost:8080/"
        },
        "id": "sbtBxp2_WKTY",
        "outputId": "bf7d8fa3-c29e-4bca-febe-fd20113cc0c9"
      },
      "outputs": [
        {
          "output_type": "stream",
          "name": "stdout",
          "text": [
            "[[0.00914287 0.44976661 0.5666929  0.57094046]\n",
            " [0.17364149 0.40767951 0.99359103 0.86469318]\n",
            " [0.6629643  0.23807259 0.08290703 0.86161175]\n",
            " [0.8597748  0.71489008 0.23959045 0.794777  ]]\n"
          ]
        }
      ],
      "source": [
        "import numpy as np\n",
        "import random\n",
        "import math\n",
        "\n",
        "def load_scrambled_image(file_path):\n",
        "    return np.random.rand(4, 4)\n",
        "\n",
        "def calculate_cost(puzzle, goal):\n",
        "    cost = 0\n",
        "    n = puzzle.shape[0]\n",
        "    for i in range(n):\n",
        "        for j in range(n):\n",
        "            if puzzle[i, j] != goal[i, j]:\n",
        "                cost += 1\n",
        "    return cost\n",
        "\n",
        "def swap_pieces(puzzle):\n",
        "    n = puzzle.shape[0]\n",
        "    i1, j1 = random.randint(0, n-1), random.randint(0, n-1)\n",
        "    i2, j2 = random.randint(0, n-1), random.randint(0, n-1)\n",
        "    new_puzzle = puzzle.copy()\n",
        "    new_puzzle[i1, j1], new_puzzle[i2, j2] = new_puzzle[i2, j2], new_puzzle[i1, j1]\n",
        "    return new_puzzle\n",
        "\n",
        "def simulated_annealing(puzzle, goal, initial_temp, final_temp, alpha):\n",
        "    current_state = puzzle\n",
        "    current_cost = calculate_cost(current_state, goal)\n",
        "    temp = initial_temp\n",
        "\n",
        "    while temp > final_temp:\n",
        "        next_state = swap_pieces(current_state)\n",
        "        next_cost = calculate_cost(next_state, goal)\n",
        "\n",
        "        if next_cost < current_cost or random.uniform(0, 1) < math.exp((current_cost - next_cost) / temp):\n",
        "            current_state = next_state\n",
        "            current_cost = next_cost\n",
        "\n",
        "        temp *= alpha\n",
        "\n",
        "    return current_state\n",
        "\n",
        "scrambled_image = load_scrambled_image('scrambled_lena.mat')\n",
        "goal_image = np.sort(scrambled_image, axis=None).reshape(scrambled_image.shape)\n",
        "\n",
        "initial_temp = 1000\n",
        "final_temp = 1\n",
        "alpha = 0.99\n",
        "\n",
        "solved_puzzle = simulated_annealing(scrambled_image, goal_image, initial_temp, final_temp, alpha)\n",
        "\n",
        "print(solved_puzzle)"
      ]
    }
  ]
}